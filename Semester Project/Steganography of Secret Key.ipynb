{
 "cells": [
  {
   "cell_type": "code",
   "execution_count": 1,
   "id": "177ee716",
   "metadata": {},
   "outputs": [],
   "source": [
    "import numpy as np\n",
    "import cv2\n",
    "import os\n",
    "import random"
   ]
  },
  {
   "cell_type": "markdown",
   "id": "57c3a432",
   "metadata": {},
   "source": [
    "# Algorithm"
   ]
  },
  {
   "cell_type": "markdown",
   "id": "1149ff60",
   "metadata": {},
   "source": [
    "### Encryption"
   ]
  },
  {
   "cell_type": "code",
   "execution_count": 3,
   "id": "c4df75d1",
   "metadata": {},
   "outputs": [],
   "source": [
    "def key_generator(n_bits):\n",
    "    secret_key = ''\n",
    "    for i in range(n_bits):\n",
    "        secret_key += chr(random.randint(33, 122))\n",
    "    return secret_key"
   ]
  },
  {
   "cell_type": "code",
   "execution_count": 4,
   "id": "acb59004",
   "metadata": {},
   "outputs": [],
   "source": [
    "def ascii_and_prepend_zeros(character):\n",
    "    binary = bin(ord(character))[2 : ]\n",
    "    for i in range(8 - len(binary)):\n",
    "        binary = '0' + binary\n",
    "    return binary"
   ]
  },
  {
   "cell_type": "code",
   "execution_count": 5,
   "id": "fc99557e",
   "metadata": {},
   "outputs": [],
   "source": [
    "def preprocess(image_path, size):\n",
    "    image = cv2.imread(image_path)\n",
    "    image = cv2.cvtColor(image, cv2.COLOR_BGR2GRAY)\n",
    "    image = cv2.resize(image, size)\n",
    "    return image"
   ]
  },
  {
   "cell_type": "code",
   "execution_count": 6,
   "id": "7268341e",
   "metadata": {},
   "outputs": [],
   "source": [
    "def show(image):\n",
    "    cv2.imshow('Image', image)\n",
    "    cv2.waitKey(0)\n",
    "    cv2.destroyAllWindows()"
   ]
  },
  {
   "cell_type": "code",
   "execution_count": 7,
   "id": "21fe83de",
   "metadata": {},
   "outputs": [],
   "source": [
    "def shift_image_encrypt(image, bit_location):\n",
    "    image[bit_location] = np.left_shift(np.right_shift(image[bit_location], 1), 1)\n",
    "    return image"
   ]
  },
  {
   "cell_type": "code",
   "execution_count": 8,
   "id": "9dd65a51",
   "metadata": {},
   "outputs": [],
   "source": [
    "def bitwise_or(image, key_bit, location):\n",
    "    image[location] = np.bitwise_or(image[location], int(key_bit, 2))\n",
    "    return image"
   ]
  },
  {
   "cell_type": "code",
   "execution_count": 9,
   "id": "291589f6",
   "metadata": {},
   "outputs": [],
   "source": [
    "def shift_and_embed(image, key_bit, bit_location):\n",
    "    image = shift_image_encrypt(image, bit_location)\n",
    "    image = bitwise_or(image, key_bit, bit_location)\n",
    "    return image"
   ]
  },
  {
   "cell_type": "code",
   "execution_count": 14,
   "id": "4f0eb031",
   "metadata": {},
   "outputs": [],
   "source": [
    "def customized_steganography(image, secret_key, binaries):\n",
    "    n_locations = len(binaries) * 8\n",
    "    binary = []\n",
    "    for b in binaries:\n",
    "        for j in range(8):\n",
    "            binary.append(b[j])\n",
    "    image = image.flatten()\n",
    "    bit_locations = []\n",
    "    for i in range(n_locations):\n",
    "        location = random.randint(0, len(image) - 1)\n",
    "        while location in bit_locations:\n",
    "            location = random.randint(0, len(image) - 1)\n",
    "        bit_locations.append(location)\n",
    "        image = shift_and_embed(image, binary[i], bit_locations[i])\n",
    "    return image, bit_locations"
   ]
  },
  {
   "cell_type": "code",
   "execution_count": 15,
   "id": "d18ab8ee",
   "metadata": {},
   "outputs": [],
   "source": [
    "def encrypt(image, secret_key, size):\n",
    "    binaries = []\n",
    "    for character in secret_key:\n",
    "        binaries.append(ascii_and_prepend_zeros(character))\n",
    "    steg_image, bit_locations = customized_steganography(image, secret_key, binaries)\n",
    "    return np.array(steg_image).reshape(size), bit_locations"
   ]
  },
  {
   "cell_type": "code",
   "execution_count": 16,
   "id": "895e4418",
   "metadata": {},
   "outputs": [
    {
     "name": "stdout",
     "output_type": "stream",
     "text": [
      "2048\n"
     ]
    }
   ],
   "source": [
    "size = (500, 500)\n",
    "image = preprocess('image.jpeg', (size[1], size[0]))\n",
    "secret_key = key_generator(2048)\n",
    "print(len(secret_key))"
   ]
  },
  {
   "cell_type": "code",
   "execution_count": 17,
   "id": "4cfabda7",
   "metadata": {},
   "outputs": [],
   "source": [
    "steg_image, bit_locations = encrypt(image, secret_key, size)"
   ]
  },
  {
   "cell_type": "code",
   "execution_count": 19,
   "id": "1598080f",
   "metadata": {},
   "outputs": [
    {
     "name": "stdout",
     "output_type": "stream",
     "text": [
      "[188398, 128789, 80615, 62222, 64823, 102706, 75901, 176204, 205656, 146170]\n"
     ]
    }
   ],
   "source": [
    "print(bit_locations[0 : 10])"
   ]
  },
  {
   "cell_type": "code",
   "execution_count": 20,
   "id": "ed17004a",
   "metadata": {},
   "outputs": [],
   "source": [
    "show(steg_image)"
   ]
  },
  {
   "cell_type": "markdown",
   "id": "3e4513c7",
   "metadata": {},
   "source": [
    "### Decryption "
   ]
  },
  {
   "cell_type": "code",
   "execution_count": 21,
   "id": "b366d27b",
   "metadata": {},
   "outputs": [],
   "source": [
    "def binarize_key(steg_image, bit_locations):\n",
    "    key = []\n",
    "    for i in range(len(bit_locations)):\n",
    "        key.append(np.binary_repr(steg_image[bit_locations[i]], 8))\n",
    "    return key"
   ]
  },
  {
   "cell_type": "code",
   "execution_count": 22,
   "id": "fad85274",
   "metadata": {},
   "outputs": [],
   "source": [
    "def image_decrypt(binarized_key):\n",
    "    extracted_key = [int(str(b[7]), 10) for b in binarized_key]\n",
    "    return extracted_key"
   ]
  },
  {
   "cell_type": "code",
   "execution_count": 23,
   "id": "0c2720d0",
   "metadata": {},
   "outputs": [],
   "source": [
    "def decrypt(steg_image, bit_locations):\n",
    "    steg_image = steg_image.flatten()\n",
    "    binarized_key = binarize_key(steg_image, bit_locations)\n",
    "    secret_key = image_decrypt(binarized_key)\n",
    "    secret_key = np.array(secret_key).reshape(len(secret_key) // 8, 8)\n",
    "    key = ''\n",
    "    for i in range(len(secret_key)):\n",
    "        k = ''\n",
    "        for j in range(8):\n",
    "            k += str(secret_key[i][j])\n",
    "        key += chr(int(k, 2))\n",
    "    return key"
   ]
  },
  {
   "cell_type": "code",
   "execution_count": 24,
   "id": "8eadedf0",
   "metadata": {},
   "outputs": [],
   "source": [
    "decrypted_key = decrypt(steg_image, bit_locations)"
   ]
  },
  {
   "cell_type": "code",
   "execution_count": 25,
   "id": "0880d7aa",
   "metadata": {},
   "outputs": [
    {
     "data": {
      "text/plain": [
       "True"
      ]
     },
     "execution_count": 25,
     "metadata": {},
     "output_type": "execute_result"
    }
   ],
   "source": [
    "secret_key == decrypted_key"
   ]
  },
  {
   "cell_type": "code",
   "execution_count": 26,
   "id": "3e899946",
   "metadata": {},
   "outputs": [
    {
     "data": {
      "text/plain": [
       "'\\'0Enu7;zT`z>nUD]Cb#e7V6cn]@XYGmgB=_x)-C:v`l3jSNUQF-vra^UtRNA=eB;.%S#(jo=0.sL-&rTmO5:mobPa(#0x$RFmy$>8\\'&J<H::V5Lc59imm;&7<X_\\'\\\\kei;-[%]f))6([8<?+088:ZBHMyrS\\\\\\'Ya\"cJht>sfz,T`hyqR-NC2Z:EDkw3/o2\"(`*l+i5$fO`KE:N\"0\"8\\'Svocuaerq<;t@,\\'Xy1?GOGHhb4C*bK;-UDMhMX\\'gRaGn2kDbXq9^)<*YyJMq\\\\>@4CDZC\\\\&\"M_HF\"tJ1fsSQ\\'MS6_uKEE/iU+jK2+^2hhB\\\\3&o@=j7c:7Fb%G_x-8Mi#\"zQskfj!>FA.[,vw;\\\\C.hNe<Iug\"*E=k5GCMx4+2j:*L[_Y=RV/%a9?o@/.fNSaItXfD\"sXTms*N(#C[Jcf2pE<-Z3M^<RWgv5VFD4cgh:FLP_u?Gt,I>R5FN&g1Yt@h-s.V?.:y@7+ION8o$*uMF!p5rD?0xNh3=E>Q3(UL&PJJ?byTI7TW&`93HuqTXn2s0>5+GHj(%_eFQtet*?`4bp\\';\\\\&-gq\">N17xj&fP]Jg\\\\GI2ib1>sDlfuJH%GYB:O%jZ\\\\16W7\\'P6T[<\\':8hmQ_:^,*I7c\\\\NJH]o\"g!YjvE5^0f&Fi@H(e`o*:X\\\\_Ufg,dngquu07QyBqdCl(gsy@sr[6gK9?zD]J^azIuY)p?,cHDZ]v1s%IiE<,I026=ey7*:s1+vA/)W$x&oS\\\\:JWCeRmv_L<&Z!tGpDl>r9mDJj_>eR0uO\"M>83Qv%jpU>AL=a>R\\'uL:>iFJtjO[MdS,wT`rpPqU4.:/+.<vkCp#`\\\\K`wH^+0WX!Jul\"NZ]5$d6+qPYy>(+D:zX>%n/6x`v:b3_J15#W$N\\\\@<G0Jr2kk6YJ!&hxD@dL58okjH0a`;b)\\\\+sa4e3gD(>F]/-Y]W8hD\\'\\\\RsX`,l&C$FwI@kp5Jq`?Q&m+,nFr+b\"@f>iWI)bq,1TA,yQ0GMnvF)Y_k!,/(e5q_;x:XP$_t1Xa\"XL57EC#CA*Jz#!V]iehqKc)>)pWbo$e@uutgm\\'lS9J/DK\\'d6]>sRPSpk-EU+Jhsa*R:O6+p2CLNIR=\"0.&NWJH]njkbFapp`$9UJ76:Qi<zx,VDqs:/v%Z\\\\%Iri;lKSZrX^O^uDeJ7RB&dOm\\'0Yg;pnflqy%^kU!Q5F1]G6gbC>CAV^(A$6T2\\'lA_]p7-4CBRT\"z*Ku2c7K\\\\-cKOV><.0UefX&SA;T^P9nc-%\\'Vc.kW:/2m*qX4rdUHjrL;&Je\\\\*Z_X$=z904M2o8<@0X^EX]Y+tSV/_J*^[\"ja^N:1xPNn<8pjQcz?Xi^@.BuJ?f$0h\"_U$$A(9w^eRi5N^tg;[Ae!SIGFe[(Qa?VXV=,n.#pJn:G?VY@?L`;/(]>9nOyq.ZI^wRVT)`N(92agptn&Q\\'3h?)<5IVTD<Q[g\"rsduE.qm6cY%Rd0Mx5<^\"ZuOn)0^(:ud+FCj-Dv$C1<]81izMv1<3,_iS(;xx-49.O#U\\'0?f:EO;\"I;ehiC:h7tx4P:X\\'t)Cyu;sptXKa.dz^zLBwM2DU5X:F$64wWCPA@[nS<Ji40w=yTufn0O]T>c!$P\\\\pd6BJl5\"@V$U%M,cC=tEu#WvuZUT50`zPy)gZ1O\\\\XSyNoNa.D6w%sm3LNP=5DFxd3W*ZAdkcHRy\\\\`tj++^M9As6_+\\'\\'&`oS,YA]p&,BuCy;?4l9rriXd8J1\\\\OaX3@f.qF8$wu#AjHeB!(*uf>VC-]acxju<4Xt8$LJ6glc16Bs\\'/]]B:mPST5-8#D(\\'4C1T\"*jQAe]D4-%GGW#)N,ATJ;L\\'EJbFAeg+LeM]>mt-)$@:VuZ\\\\$*E3G?Zv`$`xr5J[Lx94#t)uP_PgR\\\\tGXIDX99DQ&>B+JrRN1\"F0FL%Z0\\'2sLb[OZ_x&6u_@Y40wII=v>C.ng[\\\\HbnmJnO\"*;TXm-t)^HuMKUj!b#^eTsL._2J6+TIwhoB?teGq&#4H#JdR.<V!SN?xKds9MAW&V/7/#b^D0RvgVSSbUzlxRKD9jAeJF\\'T&`K?\\'y_%ApI`g@*s_E54@5x6](g+Gq,LEHJo'"
      ]
     },
     "execution_count": 26,
     "metadata": {},
     "output_type": "execute_result"
    }
   ],
   "source": [
    "secret_key"
   ]
  },
  {
   "cell_type": "code",
   "execution_count": 27,
   "id": "d9798908",
   "metadata": {},
   "outputs": [
    {
     "data": {
      "text/plain": [
       "'\\'0Enu7;zT`z>nUD]Cb#e7V6cn]@XYGmgB=_x)-C:v`l3jSNUQF-vra^UtRNA=eB;.%S#(jo=0.sL-&rTmO5:mobPa(#0x$RFmy$>8\\'&J<H::V5Lc59imm;&7<X_\\'\\\\kei;-[%]f))6([8<?+088:ZBHMyrS\\\\\\'Ya\"cJht>sfz,T`hyqR-NC2Z:EDkw3/o2\"(`*l+i5$fO`KE:N\"0\"8\\'Svocuaerq<;t@,\\'Xy1?GOGHhb4C*bK;-UDMhMX\\'gRaGn2kDbXq9^)<*YyJMq\\\\>@4CDZC\\\\&\"M_HF\"tJ1fsSQ\\'MS6_uKEE/iU+jK2+^2hhB\\\\3&o@=j7c:7Fb%G_x-8Mi#\"zQskfj!>FA.[,vw;\\\\C.hNe<Iug\"*E=k5GCMx4+2j:*L[_Y=RV/%a9?o@/.fNSaItXfD\"sXTms*N(#C[Jcf2pE<-Z3M^<RWgv5VFD4cgh:FLP_u?Gt,I>R5FN&g1Yt@h-s.V?.:y@7+ION8o$*uMF!p5rD?0xNh3=E>Q3(UL&PJJ?byTI7TW&`93HuqTXn2s0>5+GHj(%_eFQtet*?`4bp\\';\\\\&-gq\">N17xj&fP]Jg\\\\GI2ib1>sDlfuJH%GYB:O%jZ\\\\16W7\\'P6T[<\\':8hmQ_:^,*I7c\\\\NJH]o\"g!YjvE5^0f&Fi@H(e`o*:X\\\\_Ufg,dngquu07QyBqdCl(gsy@sr[6gK9?zD]J^azIuY)p?,cHDZ]v1s%IiE<,I026=ey7*:s1+vA/)W$x&oS\\\\:JWCeRmv_L<&Z!tGpDl>r9mDJj_>eR0uO\"M>83Qv%jpU>AL=a>R\\'uL:>iFJtjO[MdS,wT`rpPqU4.:/+.<vkCp#`\\\\K`wH^+0WX!Jul\"NZ]5$d6+qPYy>(+D:zX>%n/6x`v:b3_J15#W$N\\\\@<G0Jr2kk6YJ!&hxD@dL58okjH0a`;b)\\\\+sa4e3gD(>F]/-Y]W8hD\\'\\\\RsX`,l&C$FwI@kp5Jq`?Q&m+,nFr+b\"@f>iWI)bq,1TA,yQ0GMnvF)Y_k!,/(e5q_;x:XP$_t1Xa\"XL57EC#CA*Jz#!V]iehqKc)>)pWbo$e@uutgm\\'lS9J/DK\\'d6]>sRPSpk-EU+Jhsa*R:O6+p2CLNIR=\"0.&NWJH]njkbFapp`$9UJ76:Qi<zx,VDqs:/v%Z\\\\%Iri;lKSZrX^O^uDeJ7RB&dOm\\'0Yg;pnflqy%^kU!Q5F1]G6gbC>CAV^(A$6T2\\'lA_]p7-4CBRT\"z*Ku2c7K\\\\-cKOV><.0UefX&SA;T^P9nc-%\\'Vc.kW:/2m*qX4rdUHjrL;&Je\\\\*Z_X$=z904M2o8<@0X^EX]Y+tSV/_J*^[\"ja^N:1xPNn<8pjQcz?Xi^@.BuJ?f$0h\"_U$$A(9w^eRi5N^tg;[Ae!SIGFe[(Qa?VXV=,n.#pJn:G?VY@?L`;/(]>9nOyq.ZI^wRVT)`N(92agptn&Q\\'3h?)<5IVTD<Q[g\"rsduE.qm6cY%Rd0Mx5<^\"ZuOn)0^(:ud+FCj-Dv$C1<]81izMv1<3,_iS(;xx-49.O#U\\'0?f:EO;\"I;ehiC:h7tx4P:X\\'t)Cyu;sptXKa.dz^zLBwM2DU5X:F$64wWCPA@[nS<Ji40w=yTufn0O]T>c!$P\\\\pd6BJl5\"@V$U%M,cC=tEu#WvuZUT50`zPy)gZ1O\\\\XSyNoNa.D6w%sm3LNP=5DFxd3W*ZAdkcHRy\\\\`tj++^M9As6_+\\'\\'&`oS,YA]p&,BuCy;?4l9rriXd8J1\\\\OaX3@f.qF8$wu#AjHeB!(*uf>VC-]acxju<4Xt8$LJ6glc16Bs\\'/]]B:mPST5-8#D(\\'4C1T\"*jQAe]D4-%GGW#)N,ATJ;L\\'EJbFAeg+LeM]>mt-)$@:VuZ\\\\$*E3G?Zv`$`xr5J[Lx94#t)uP_PgR\\\\tGXIDX99DQ&>B+JrRN1\"F0FL%Z0\\'2sLb[OZ_x&6u_@Y40wII=v>C.ng[\\\\HbnmJnO\"*;TXm-t)^HuMKUj!b#^eTsL._2J6+TIwhoB?teGq&#4H#JdR.<V!SN?xKds9MAW&V/7/#b^D0RvgVSSbUzlxRKD9jAeJF\\'T&`K?\\'y_%ApI`g@*s_E54@5x6](g+Gq,LEHJo'"
      ]
     },
     "execution_count": 27,
     "metadata": {},
     "output_type": "execute_result"
    }
   ],
   "source": [
    "decrypted_key"
   ]
  },
  {
   "cell_type": "markdown",
   "id": "10e8ed5b",
   "metadata": {},
   "source": [
    "# Attack"
   ]
  },
  {
   "cell_type": "code",
   "execution_count": 28,
   "id": "93e5d5b1",
   "metadata": {},
   "outputs": [],
   "source": [
    "def image_decrypt_attack(binarized_key, position):\n",
    "    extracted_key = [int(str(b[position]), 10) for b in binarized_key]\n",
    "    return extracted_key"
   ]
  },
  {
   "cell_type": "code",
   "execution_count": 34,
   "id": "3c11fca5",
   "metadata": {},
   "outputs": [],
   "source": [
    "def attack(steg_image, bit_locations, position):\n",
    "    steg_image = steg_image.flatten()\n",
    "    binarized_key = binarize_key(steg_image, bit_locations)\n",
    "    secret_key = image_decrypt_attack(binarized_key, position)\n",
    "    secret_key = np.array(secret_key).reshape(len(secret_key) // 8, 8)\n",
    "    key = ''\n",
    "    for i in range(len(secret_key)):\n",
    "        k = ''\n",
    "        for j in range(8):\n",
    "            k += str(secret_key[i][j])\n",
    "        key += chr(int(k, 2))\n",
    "    return key"
   ]
  },
  {
   "cell_type": "code",
   "execution_count": 42,
   "id": "529a2b09",
   "metadata": {},
   "outputs": [
    {
     "name": "stdout",
     "output_type": "stream",
     "text": [
      "Attack successful after checking 8 different bit positions\n"
     ]
    }
   ],
   "source": [
    "position = 0\n",
    "recovered_key = ''\n",
    "while ((position < 8) and (recovered_key != secret_key)):\n",
    "    recovered_key = attack(steg_image, bit_locations, position)\n",
    "    position += 1\n",
    "    \n",
    "if (recovered_key == secret_key):\n",
    "    print(f\"Attack successful after checking {position} different bit positions\")\n",
    "else:\n",
    "    print(\"Attack not successful\")"
   ]
  }
 ],
 "metadata": {
  "kernelspec": {
   "display_name": "Python 3 (ipykernel)",
   "language": "python",
   "name": "python3"
  },
  "language_info": {
   "codemirror_mode": {
    "name": "ipython",
    "version": 3
   },
   "file_extension": ".py",
   "mimetype": "text/x-python",
   "name": "python",
   "nbconvert_exporter": "python",
   "pygments_lexer": "ipython3",
   "version": "3.10.7"
  }
 },
 "nbformat": 4,
 "nbformat_minor": 5
}
